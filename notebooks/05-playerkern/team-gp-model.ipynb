{
 "cells": [
  {
   "cell_type": "markdown",
   "metadata": {},
   "source": [
    "# Team GP Model"
   ]
  },
  {
   "cell_type": "code",
   "execution_count": 1,
   "metadata": {
    "collapsed": true
   },
   "outputs": [],
   "source": [
    "import numpy as np\n",
    "import os.path\n",
    "\n",
    "from datetime import datetime\n",
    "from thesis.playerkern import Game, init_db, TeamGPModel, TestSet"
   ]
  },
  {
   "cell_type": "code",
   "execution_count": 2,
   "metadata": {
    "collapsed": true
   },
   "outputs": [],
   "source": [
    "# Prettify the display of numpy arrays.\n",
    "np.set_printoptions(precision=3, suppress=True)\n",
    "\n",
    "# EURO 2008.\n",
    "BEGIN_TRAIN = datetime(2006, 7, 1)\n",
    "BEGIN_TEST = datetime(2008, 6, 7)\n",
    "END_TEST = datetime(2008, 6, 30)\n",
    "\n",
    "# EURO 2012.\n",
    "# BEGIN_TRAIN = datetime(2006, 7, 1)\n",
    "# BEGIN_TEST = datetime(2012, 6, 8)\n",
    "# END_TEST = datetime(2012, 7, 2)\n",
    "\n",
    "# EURO 2016.\n",
    "# BEGIN_TRAIN = datetime(2007, 7, 1)\n",
    "# BEGIN_TEST = datetime(2016, 6, 10)\n",
    "# END_TEST = datetime(2016, 7, 11)"
   ]
  },
  {
   "cell_type": "markdown",
   "metadata": {},
   "source": [
    "Connect to the database."
   ]
  },
  {
   "cell_type": "code",
   "execution_count": 3,
   "metadata": {
    "collapsed": true
   },
   "outputs": [],
   "source": [
    "db_path = \"data/kdb-2017-11-15-ft-corrected.db\"\n",
    "\n",
    "assert os.path.exists(db_path)\n",
    "init_db(\"sqlite:///{}\".format(db_path))"
   ]
  },
  {
   "cell_type": "markdown",
   "metadata": {},
   "source": [
    "## Fitting the model"
   ]
  },
  {
   "cell_type": "code",
   "execution_count": 4,
   "metadata": {
    "collapsed": true
   },
   "outputs": [],
   "source": [
    "hyperparams = {\n",
    "    'teams_var': 0.495,\n",
    "    'home_adv_var': 0.25,\n",
    "}\n",
    "alpha = 0.60\n",
    "model = TeamGPModel(alpha, home_advantage=True, **hyperparams)"
   ]
  },
  {
   "cell_type": "code",
   "execution_count": 5,
   "metadata": {},
   "outputs": [
    {
     "name": "stdout",
     "output_type": "stream",
     "text": [
      "Number of games: 1307\n",
      "Number of features: 186\n",
      "\n",
      "Name : gp\n",
      "Objective : 1261.9590118145243\n",
      "Number of Parameters : 2\n",
      "Number of Optimization Parameters : 2\n",
      "Updates : True\n",
      "Parameters:\n",
      "  \u001b[1mgp.                   \u001b[0;0m  |  value  |  constraints  |  priors\n",
      "  \u001b[1msum.teams.variances   \u001b[0;0m  |  0.495  |      +ve      |        \n",
      "  \u001b[1msum.home_adv.variances\u001b[0;0m  |   0.25  |      +ve      |        \n",
      "CPU times: user 3.94 s, sys: 171 ms, total: 4.11 s\n",
      "Wall time: 2.54 s\n"
     ]
    }
   ],
   "source": [
    "%%time\n",
    "comps = (\n",
    "    \"European Championship\",\n",
    "    \"EC Qualification\",\n",
    "    \"Friendlies\",\n",
    "    \"World Cup\",\n",
    "    \"Confederations Cup\",\n",
    ")\n",
    "\n",
    "games = Game.select().where(\n",
    "    (BEGIN_TRAIN <= Game.kickoff_time)\n",
    "    & (Game.kickoff_time < BEGIN_TEST)\n",
    "    & (Game.competition << comps))\n",
    "\n",
    "model.fit(games)\n",
    "\n",
    "print(\"Number of games: %s\" % (model.featmat.shape[0],))\n",
    "print(\"Number of features: %s\" % (model.featmat.shape[1],))\n",
    "print(model.gp)"
   ]
  },
  {
   "cell_type": "markdown",
   "metadata": {},
   "source": [
    "## Evaluating the model's performance"
   ]
  },
  {
   "cell_type": "code",
   "execution_count": 6,
   "metadata": {},
   "outputs": [
    {
     "name": "stdout",
     "output_type": "stream",
     "text": [
      "number of samples: 31\n",
      "0-1 loss: 15.000\n",
      "log loss: 29.505\n"
     ]
    }
   ],
   "source": [
    "test_set = TestSet.from_games(\n",
    "        (Game.kickoff_time >= BEGIN_TEST)\n",
    "        & (Game.kickoff_time <= END_TEST)\n",
    "        & (Game.competition == 'European Championship'))\n",
    "\n",
    "test_set.evaluate(model).print_summary()"
   ]
  },
  {
   "cell_type": "code",
   "execution_count": 7,
   "metadata": {},
   "outputs": [
    {
     "name": "stdout",
     "output_type": "stream",
     "text": [
      "number of samples: 31\n",
      "0-1 loss: 20.000\n",
      "log loss: 34.057\n"
     ]
    }
   ],
   "source": [
    "test_set.evaluate_fct(lambda x: (1/3, 1/3, 1/3)).print_summary()"
   ]
  }
 ],
 "metadata": {
  "kernelspec": {
   "display_name": "Python 3",
   "language": "python",
   "name": "python3"
  },
  "language_info": {
   "codemirror_mode": {
    "name": "ipython",
    "version": 3
   },
   "file_extension": ".py",
   "mimetype": "text/x-python",
   "name": "python",
   "nbconvert_exporter": "python",
   "pygments_lexer": "ipython3",
   "version": "3.5.1"
  }
 },
 "nbformat": 4,
 "nbformat_minor": 1
}
