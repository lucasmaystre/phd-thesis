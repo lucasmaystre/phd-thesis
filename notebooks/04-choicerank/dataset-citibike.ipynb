{
 "cells": [
  {
   "cell_type": "markdown",
   "metadata": {},
   "source": [
    "# Citi Bike NYC dataset\n",
    "\n",
    "This notebook analyzes the 2015 Citi Bike NYC system data (rides between bike-sharing stations). Resources:\n",
    "\n",
    "- <https://www.citibikenyc.com/system-data>\n",
    "- <http://toddwschneider.com/posts/a-tale-of-twenty-two-million-citi-bikes-analyzing-the-nyc-bike-share-system/>"
   ]
  },
  {
   "cell_type": "code",
   "execution_count": 1,
   "metadata": {},
   "outputs": [],
   "source": [
    "%matplotlib inline"
   ]
  },
  {
   "cell_type": "code",
   "execution_count": 2,
   "metadata": {},
   "outputs": [],
   "source": [
    "import choix\n",
    "import csv\n",
    "import datetime\n",
    "import glob\n",
    "import matplotlib.pyplot as plt\n",
    "import networkx as nx\n",
    "import numpy as np\n",
    "import pickle\n",
    "\n",
    "from thesis.choicerank import displacement, weighted_quantiles, qtod\n",
    "from scipy.stats import entropy"
   ]
  },
  {
   "cell_type": "markdown",
   "metadata": {},
   "source": [
    "## Building the graph from the data."
   ]
  },
  {
   "cell_type": "code",
   "execution_count": 3,
   "metadata": {},
   "outputs": [
    {
     "name": "stdout",
     "output_type": "stream",
     "text": [
      "............done (total traffic: 3,380,552.0)\n",
      "CPU times: user 7min 29s, sys: 2.49 s, total: 7min 32s\n",
      "Wall time: 7min 32s\n"
     ]
    }
   ],
   "source": [
    "%%time\n",
    "threshold = datetime.timedelta(hours=1, minutes=0)\n",
    "\n",
    "graph = nx.DiGraph()\n",
    "for path in glob.glob(\"data/citibike/2015*-citibike-tripdata.csv\"):\n",
    "    print(\".\", end=\"\")\n",
    "    with open(path) as f:\n",
    "        reader = csv.DictReader(f)\n",
    "        for row in reader:\n",
    "            src = int(row[\"start station id\"])\n",
    "            dst = int(row[\"end station id\"])\n",
    "            try:\n",
    "                start = datetime.datetime.strptime(row[\"starttime\"], \"%m/%d/%Y %H:%M:%S\")\n",
    "                stop = datetime.datetime.strptime(row[\"stoptime\"], \"%m/%d/%Y %H:%M:%S\")\n",
    "            except:\n",
    "                # Later files do not have the seconds at the end.\n",
    "                start = datetime.datetime.strptime(row[\"starttime\"], \"%m/%d/%Y %H:%M\")\n",
    "                stop = datetime.datetime.strptime(row[\"stoptime\"], \"%m/%d/%Y %H:%M\")\n",
    "            if stop - start < threshold and src != dst:\n",
    "                if not graph.has_edge(src, dst):\n",
    "                    graph.add_edge(src, dst, traffic=1.0)\n",
    "                else:\n",
    "                    graph.edges[src,dst][\"traffic\"] += 1.0\n",
    "\n",
    "# Keep only edges that appear at least once per day on average.\n",
    "tot_count = 0\n",
    "for u, v, traffic in list(graph.edges(data=\"traffic\")):\n",
    "    if traffic < 365:\n",
    "        graph.remove_edge(u, v)\n",
    "    else:\n",
    "        tot_count += traffic\n",
    "        \n",
    "# Relabel nodes.\n",
    "graph = nx.convert_node_labels_to_integers(graph, label_attribute=\"station_id\")\n",
    "print(\"done (total traffic: {:,})\".format(tot_count))\n",
    "\n",
    "for v in graph.nodes:\n",
    "    graph.nodes[v][\"in\"] = 0\n",
    "    graph.nodes[v][\"out\"] = 0\n",
    "\n",
    "for src, dst, traff in graph.edges(data=\"traffic\"):\n",
    "    graph.nodes[src][\"out\"] += traff\n",
    "    graph.nodes[dst][\"in\"] += traff"
   ]
  },
  {
   "cell_type": "code",
   "execution_count": 4,
   "metadata": {},
   "outputs": [],
   "source": [
    "inflow = np.array(list(graph.nodes[v][\"in\"] for v in graph), dtype=float)\n",
    "outflow = np.array(list(graph.nodes[v][\"out\"] for v in graph), dtype=float)"
   ]
  },
  {
   "cell_type": "code",
   "execution_count": 5,
   "metadata": {},
   "outputs": [
    {
     "name": "stdout",
     "output_type": "stream",
     "text": [
      "497 nodes, 5,209 edges\n",
      "inflow: 3,380,552 outflow: 3,380,552\n"
     ]
    }
   ],
   "source": [
    "print(\"{:,} nodes, {:,} edges\".format(len(graph), len(graph.edges())))\n",
    "print(\"inflow: {:,} outflow: {:,}\".format(int(inflow.sum()), int(outflow.sum())))"
   ]
  },
  {
   "cell_type": "markdown",
   "metadata": {},
   "source": [
    "## Estimating transition probabilities\n",
    "\n",
    "We compare ChoiceRank to three baselines (traffic, pagerank, uniform) against the observed (ground-truth) transition counts.\n",
    "We use two metrics:\n",
    "\n",
    "- the KL-divergence\n",
    "- the average displacement (ranking metric)\n",
    "\n",
    "Running ChoiceRank."
   ]
  },
  {
   "cell_type": "code",
   "execution_count": 6,
   "metadata": {},
   "outputs": [
    {
     "name": "stdout",
     "output_type": "stream",
     "text": [
      "CPU times: user 1.2 s, sys: 3.73 ms, total: 1.2 s\n",
      "Wall time: 1.2 s\n"
     ]
    }
   ],
   "source": [
    "%%time\n",
    "# /!\\ Beware, `alpha` here corresponds to α - 1 in the thesis.\n",
    "thetas = choix.choicerank(graph, inflow, outflow, alpha=1.0, tol=1e-08, max_iter=10000)\n",
    "crs = np.exp(thetas)"
   ]
  },
  {
   "cell_type": "markdown",
   "metadata": {},
   "source": [
    "Running PageRank."
   ]
  },
  {
   "cell_type": "code",
   "execution_count": 7,
   "metadata": {},
   "outputs": [
    {
     "name": "stdout",
     "output_type": "stream",
     "text": [
      "CPU times: user 12.4 ms, sys: 1.45 ms, total: 13.8 ms\n",
      "Wall time: 12.7 ms\n"
     ]
    }
   ],
   "source": [
    "%%time\n",
    "pr = nx.pagerank_scipy(graph, weight=None)\n",
    "prs = np.array(list(pr[v] for v in graph), dtype=float)"
   ]
  },
  {
   "cell_type": "markdown",
   "metadata": {},
   "source": [
    "Compute accuracy w.r.t. ground-truth."
   ]
  },
  {
   "cell_type": "code",
   "execution_count": 8,
   "metadata": {},
   "outputs": [
    {
     "name": "stdout",
     "output_type": "stream",
     "text": [
      "done.\n",
      "CPU times: user 174 ms, sys: 820 µs, total: 174 ms\n",
      "Wall time: 174 ms\n"
     ]
    }
   ],
   "source": [
    "%%time\n",
    "methods = [\"crnk\", \"traf\", \"prnk\", \"unif\"]\n",
    "kls = {m: list() for m in methods}\n",
    "dps = {m: list() for m in methods}\n",
    "ws = list()\n",
    "\n",
    "for v in list(graph):\n",
    "    succs = list(graph.successors(v))\n",
    "    if len(succs) < 2:\n",
    "        continue\n",
    "    ps = np.zeros(len(succs))\n",
    "    qs = {m: np.zeros(len(succs)) for m in methods}\n",
    "    for i, s in enumerate(succs):\n",
    "        ps[i] = graph.edges[v,s][\"traffic\"]\n",
    "        qs[\"crnk\"][i] = crs[s]\n",
    "        qs[\"traf\"][i] = graph.nodes[s][\"in\"]\n",
    "        qs[\"prnk\"][i] = prs[s]\n",
    "        qs[\"unif\"][i] = 1.0\n",
    "    ps = ps / np.sum(ps)\n",
    "    for m in methods:\n",
    "        qs[m] = qs[m] / np.sum(qs[m])\n",
    "        kls[m].append(entropy(ps, qs[m]))\n",
    "        dps[m].append(displacement(qs[m], ps) / len(succs)**2)\n",
    "    ws.append(graph.nodes[v][\"out\"])\n",
    "print(\"done.\")"
   ]
  },
  {
   "cell_type": "code",
   "execution_count": 9,
   "metadata": {},
   "outputs": [],
   "source": [
    "kls = {m: np.array(kls[m]) for m in methods}\n",
    "dps = {m: np.array(dps[m]) for m in methods}"
   ]
  },
  {
   "cell_type": "markdown",
   "metadata": {},
   "source": [
    "## Plotting the weighted accuracy"
   ]
  },
  {
   "cell_type": "code",
   "execution_count": 10,
   "metadata": {},
   "outputs": [],
   "source": [
    "fractions = [0.05, 0.25, 0.5, 0.75, 0.95]\n",
    "kls2 = dict()\n",
    "dps2 = dict()\n",
    "\n",
    "for m in methods:\n",
    "    kls2[m] = qtod(zip(fractions, weighted_quantiles(kls[m], ws, fractions=fractions)))\n",
    "    dps2[m] = qtod(zip(fractions, weighted_quantiles(dps[m], ws, fractions=fractions)))"
   ]
  },
  {
   "cell_type": "code",
   "execution_count": 11,
   "metadata": {},
   "outputs": [
    {
     "data": {
      "text/plain": [
       "Text(0.5,1,'Displacement')"
      ]
     },
     "execution_count": 11,
     "metadata": {},
     "output_type": "execute_result"
    },
    {
     "data": {
      "image/png": "[encoded data removed]",
      "text/plain": [
       "<matplotlib.figure.Figure at 0x1130afe10>"
      ]
     },
     "metadata": {},
     "output_type": "display_data"
    }
   ],
   "source": [
    "fig, axs = plt.subplots(1, 2, figsize=(14.0, 5.0))\n",
    "# KL-divergence.\n",
    "axs[0].boxplot(list(kls2[m] for m in methods), labels=methods, whis=[5, 95])\n",
    "axs[0].set_title(\"KL-divergence\")\n",
    "# Displacement\n",
    "axs[1].boxplot(list(dps2[m] for m in methods), labels=methods, whis=[5, 95])\n",
    "axs[1].set_title(\"Displacement\")"
   ]
  },
  {
   "cell_type": "markdown",
   "metadata": {},
   "source": [
    "## Save data for further usage"
   ]
  },
  {
   "cell_type": "code",
   "execution_count": 12,
   "metadata": {},
   "outputs": [],
   "source": [
    "data = {\n",
    "    \"kls\": kls,\n",
    "    \"dps\": dps,\n",
    "    \"ws\": ws,\n",
    "}\n",
    "with open(\"data/citibike-2015.pickle\", \"wb\") as f:\n",
    "    pickle.dump(data, f)"
   ]
  }
 ],
 "metadata": {
  "kernelspec": {
   "display_name": "Python 3",
   "language": "python",
   "name": "python3"
  },
  "language_info": {
   "codemirror_mode": {
    "name": "ipython",
    "version": 3
   },
   "file_extension": ".py",
   "mimetype": "text/x-python",
   "name": "python",
   "nbconvert_exporter": "python",
   "pygments_lexer": "ipython3",
   "version": "3.5.1"
  }
 },
 "nbformat": 4,
 "nbformat_minor": 1
}
