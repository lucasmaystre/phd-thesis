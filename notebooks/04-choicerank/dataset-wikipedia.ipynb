{
 "cells": [
  {
   "cell_type": "markdown",
   "metadata": {},
   "source": [
    "# Wikipedia clickstream dataset\n",
    "\n",
    "This notebook analyzes the February 2016 Wikipedia clickstream dataset. The following references are useful to get the data and understand how it is structured.\n",
    "\n",
    "- <https://dx.doi.org/10.6084/m9.figshare.1305770.v16>\n",
    "- <http://ewulczyn.github.io/Wikipedia_Clickstream_Getting_Started/>"
   ]
  },
  {
   "cell_type": "code",
   "execution_count": 1,
   "metadata": {},
   "outputs": [],
   "source": [
    "%matplotlib inline"
   ]
  },
  {
   "cell_type": "code",
   "execution_count": 2,
   "metadata": {},
   "outputs": [],
   "source": [
    "import choix\n",
    "import collections\n",
    "import matplotlib.pyplot as plt\n",
    "import networkx as nx\n",
    "import numpy as np\n",
    "import pickle\n",
    "\n",
    "from scipy.stats import entropy\n",
    "from thesis.choicerank import displacement, weighted_quantiles, qtod"
   ]
  },
  {
   "cell_type": "markdown",
   "metadata": {},
   "source": [
    "## Processing the raw data"
   ]
  },
  {
   "cell_type": "code",
   "execution_count": 3,
   "metadata": {},
   "outputs": [
    {
     "name": "stdout",
     "output_type": "stream",
     "text": [
      "done (total traffic: 6,815,240,857)\n",
      "CPU times: user 4min 28s, sys: 33.1 s, total: 5min 1s\n",
      "Wall time: 5min 12s\n"
     ]
    }
   ],
   "source": [
    "%%time\n",
    "graph = nx.DiGraph()\n",
    "tot_count = 0\n",
    "with open(\"data/2016_03_clickstream.tsv\") as f:\n",
    "    next(f)  # First line is header.\n",
    "    for line in f:\n",
    "        prev_title, curr_title, kind, n = line.split(\"\\t\")\n",
    "        tot_count += int(n)\n",
    "        if kind.strip() == \"link\":\n",
    "            graph.add_edge(prev_title, curr_title, traffic=int(n))\n",
    "graph = nx.convert_node_labels_to_integers(graph, label_attribute=\"article\")\n",
    "print(\"done (total traffic: {:,})\".format(tot_count))\n",
    "\n",
    "for v in graph.nodes:\n",
    "    graph.nodes[v][\"in\"] = 0\n",
    "    graph.nodes[v][\"out\"] = 0\n",
    "\n",
    "for src, dst, traff in graph.edges(data=\"traffic\"):\n",
    "    graph.nodes[src][\"out\"] += traff\n",
    "    graph.nodes[dst][\"in\"] += traff"
   ]
  },
  {
   "cell_type": "code",
   "execution_count": 4,
   "metadata": {},
   "outputs": [],
   "source": [
    "inflow = np.array(list(graph.nodes[v][\"in\"] for v in graph), dtype=float)\n",
    "outflow = np.array(list(graph.nodes[v][\"out\"] for v in graph), dtype=float)"
   ]
  },
  {
   "cell_type": "code",
   "execution_count": 5,
   "metadata": {},
   "outputs": [
    {
     "name": "stdout",
     "output_type": "stream",
     "text": [
      "2,316,032 nodes, 13,181,698 edges\n",
      "inflow: 1,225,246,602 outflow: 1,225,246,602\n"
     ]
    }
   ],
   "source": [
    "print(\"{:,} nodes, {:,} edges\".format(len(graph), len(graph.edges())))\n",
    "print(\"inflow: {:,} outflow: {:,}\".format(int(inflow.sum()), int(outflow.sum())))"
   ]
  },
  {
   "cell_type": "markdown",
   "metadata": {},
   "source": [
    "## Estimating transition probabilities\n",
    "\n",
    "We compare ChoiceRank to three baselines (traffic, pagerank, uniform) against the observed (ground-truth) transition counts.\n",
    "We use two metrics:\n",
    "\n",
    "- the KL-divergence\n",
    "- the average displacement (ranking metric)\n",
    "\n",
    "Running ChoiceRank."
   ]
  },
  {
   "cell_type": "code",
   "execution_count": 6,
   "metadata": {},
   "outputs": [
    {
     "name": "stdout",
     "output_type": "stream",
     "text": [
      "CPU times: user 7min 22s, sys: 1min 36s, total: 8min 59s\n",
      "Wall time: 9min 6s\n"
     ]
    }
   ],
   "source": [
    "%%time\n",
    "# /!\\ Beware, `alpha` here corresponds to α - 1 in the thesis.\n",
    "thetas = choix.choicerank(graph, inflow, outflow, alpha=1.0, tol=1e-08, max_iter=10000)\n",
    "crs = np.exp(thetas)"
   ]
  },
  {
   "cell_type": "markdown",
   "metadata": {},
   "source": [
    "Running PageRank."
   ]
  },
  {
   "cell_type": "code",
   "execution_count": 7,
   "metadata": {},
   "outputs": [
    {
     "name": "stdout",
     "output_type": "stream",
     "text": [
      "CPU times: user 1min 35s, sys: 1.46 s, total: 1min 37s\n",
      "Wall time: 1min 37s\n"
     ]
    }
   ],
   "source": [
    "%%time\n",
    "pr = nx.pagerank_scipy(graph, weight=None)\n",
    "prs = np.array(list(pr[v] for v in graph), dtype=float)"
   ]
  },
  {
   "cell_type": "markdown",
   "metadata": {},
   "source": [
    "Compute accuracy w.r.t. ground-truth."
   ]
  },
  {
   "cell_type": "code",
   "execution_count": 8,
   "metadata": {},
   "outputs": [
    {
     "name": "stdout",
     "output_type": "stream",
     "text": [
      "00 01 02 03 04 05 06 07 08 09 10 11 12 13 14 15 16 17 18 19 20 21 22 23 done.\n",
      "CPU times: user 9min 54s, sys: 1.09 s, total: 9min 55s\n",
      "Wall time: 9min 55s\n"
     ]
    }
   ],
   "source": [
    "%%time\n",
    "methods = [\"crnk\", \"traf\", \"prnk\", \"unif\"]\n",
    "kls = {m: list() for m in methods}\n",
    "dps = {m: list() for m in methods}\n",
    "ws = list()\n",
    "\n",
    "# Aggregating performance by out-degree.\n",
    "kls_by_deg = {m: collections.defaultdict(lambda: 0) for m in methods}\n",
    "ws_by_deg = collections.defaultdict(lambda: 0)\n",
    "\n",
    "for v in list(graph):\n",
    "    if v % 100000 == 0:\n",
    "        print(\"{:02d}\".format(v // 100000), end=\" \", flush=True)\n",
    "    succs = list(graph.successors(v))\n",
    "    deg = len(succs)\n",
    "    weight = graph.nodes[v][\"out\"]\n",
    "    if len(succs) < 2:\n",
    "        continue\n",
    "    ps = np.zeros(len(succs))\n",
    "    qs = {m: np.zeros(len(succs)) for m in methods}\n",
    "    for i, s in enumerate(succs):\n",
    "        ps[i] = graph.edges[v,s][\"traffic\"]\n",
    "        qs[\"crnk\"][i] = crs[s]\n",
    "        qs[\"traf\"][i] = graph.nodes[s][\"in\"]\n",
    "        qs[\"prnk\"][i] = prs[s]\n",
    "        qs[\"unif\"][i] = 1.0\n",
    "    ps = ps / np.sum(ps)\n",
    "    for m in methods:\n",
    "        qs[m] = qs[m] / np.sum(qs[m])\n",
    "        kls[m].append(entropy(ps, qs[m]))\n",
    "        kls_by_deg[m][deg] += weight * entropy(ps, qs[m])\n",
    "        dps[m].append(displacement(qs[m], ps) / len(succs)**2)\n",
    "    ws.append(weight)\n",
    "    ws_by_deg[deg] += weight\n",
    "print(\"done.\")"
   ]
  },
  {
   "cell_type": "code",
   "execution_count": 9,
   "metadata": {},
   "outputs": [],
   "source": [
    "kls = {m: np.array(kls[m]) for m in methods}\n",
    "dps = {m: np.array(dps[m]) for m in methods}"
   ]
  },
  {
   "cell_type": "markdown",
   "metadata": {},
   "source": [
    "## Plotting the weighted accuracy"
   ]
  },
  {
   "cell_type": "code",
   "execution_count": 10,
   "metadata": {},
   "outputs": [],
   "source": [
    "fractions = [0.05, 0.25, 0.5, 0.75, 0.95]\n",
    "kls2 = dict()\n",
    "dps2 = dict()\n",
    "\n",
    "for m in methods:\n",
    "    kls2[m] = qtod(zip(fractions, weighted_quantiles(kls[m], ws, fractions=fractions)))\n",
    "    dps2[m] = qtod(zip(fractions, weighted_quantiles(dps[m], ws, fractions=fractions)))"
   ]
  },
  {
   "cell_type": "code",
   "execution_count": 11,
   "metadata": {},
   "outputs": [
    {
     "data": {
      "text/plain": [
       "Text(0.5,1,'Displacement')"
      ]
     },
     "execution_count": 11,
     "metadata": {},
     "output_type": "execute_result"
    },
    {
     "data": {
      "image/png": "[encoded data removed]",
      "text/plain": [
       "<matplotlib.figure.Figure at 0x1e0d74208>"
      ]
     },
     "metadata": {},
     "output_type": "display_data"
    }
   ],
   "source": [
    "fig, axs = plt.subplots(1, 2, figsize=(14.0, 5.0))\n",
    "# KL-divergence.\n",
    "axs[0].boxplot(list(kls2[m] for m in methods), labels=methods, whis=[5, 95])\n",
    "axs[0].set_title(\"KL-divergence\")\n",
    "axs[0].set_ylim([0,2.5])\n",
    "# Displacement\n",
    "axs[1].boxplot(list(dps2[m] for m in methods), labels=methods, whis=[5, 95])\n",
    "axs[1].set_title(\"Displacement\")"
   ]
  },
  {
   "cell_type": "markdown",
   "metadata": {},
   "source": [
    "## Save data for further usage"
   ]
  },
  {
   "cell_type": "code",
   "execution_count": null,
   "metadata": {},
   "outputs": [],
   "source": [
    "for m in methods:\n",
    "    kls_by_deg[m] = dict(kls_by_deg[m])\n",
    "ws_by_deg = dict(ws_by_deg)\n",
    "\n",
    "data = {\n",
    "    \"kls\": kls,\n",
    "    \"dps\": dps,\n",
    "    \"ws\": ws,\n",
    "    \"kls-by-deg\": kls_by_deg,\n",
    "    \"ws-by-deg\": ws_by_deg,\n",
    "}\n",
    "with open(\"data/wpclk-201603.pickle\", \"wb\") as f:\n",
    "    pickle.dump(data, f)"
   ]
  }
 ],
 "metadata": {
  "kernelspec": {
   "display_name": "Python 3",
   "language": "python",
   "name": "python3"
  },
  "language_info": {
   "codemirror_mode": {
    "name": "ipython",
    "version": 3
   },
   "file_extension": ".py",
   "mimetype": "text/x-python",
   "name": "python",
   "nbconvert_exporter": "python",
   "pygments_lexer": "ipython3",
   "version": "3.5.1"
  }
 },
 "nbformat": 4,
 "nbformat_minor": 1
}
