{
 "cells": [
  {
   "cell_type": "markdown",
   "metadata": {},
   "source": [
    "# Convergence plot\n",
    "\n",
    "This notebook generates the plot that shows the speed of convergence of MM and I-LSR on two variants of the Sushi dataset."
   ]
  },
  {
   "cell_type": "code",
   "execution_count": 1,
   "metadata": {},
   "outputs": [],
   "source": [
    "import choix\n",
    "import matplotlib.pyplot as plt\n",
    "import numpy as np\n",
    "import thesis\n",
    "\n",
    "from choix.utils import log_transform\n",
    "from choix.mm import _mm_pairwise, _mm_rankings\n",
    "\n",
    "%matplotlib inline\n",
    "\n",
    "np.random.seed(2)"
   ]
  },
  {
   "cell_type": "code",
   "execution_count": 2,
   "metadata": {},
   "outputs": [
    {
     "name": "stdout",
     "output_type": "stream",
     "text": [
      "Thesis settings loaded!\n"
     ]
    }
   ],
   "source": [
    "thesis.setup_plotting()"
   ]
  },
  {
   "cell_type": "code",
   "execution_count": 3,
   "metadata": {},
   "outputs": [],
   "source": [
    "def spectral_gap(n_items, rankings):\n",
    "    mat = np.zeros((n_items, n_items))\n",
    "    for ranking in rankings:\n",
    "        for i, winner in enumerate(ranking[:-1]):\n",
    "            for loser in ranking[i+1:]:\n",
    "                mat[loser,winner] = 1.0\n",
    "    mat = mat / mat.sum(axis=1)\n",
    "    vals = np.sort(np.abs(np.linalg.eigvals(mat)))[::-1]\n",
    "    return vals[0] - vals[1]\n",
    "\n",
    "def break_pairwise(rankings):\n",
    "    \"\"\"Break full rankings into independent pairwise comparisons.\"\"\"\n",
    "    comparisons = list()\n",
    "    for r in rankings:\n",
    "        perm = np.random.permutation(len(r))\n",
    "        for i in range(0, len(r), 2):\n",
    "            idx = np.sort(perm[i:i+2])\n",
    "            comparisons.append(r[idx])\n",
    "    return comparisons"
   ]
  },
  {
   "cell_type": "markdown",
   "metadata": {},
   "source": [
    "Load the data."
   ]
  },
  {
   "cell_type": "code",
   "execution_count": 4,
   "metadata": {},
   "outputs": [],
   "source": [
    "rankings = list()\n",
    "with open(\"data/sushi3b.5000.10.order\") as f:\n",
    "    next(f)  # First line is header.\n",
    "    for line in f:\n",
    "        raw = list(map(int, line.strip().split()))\n",
    "        rankings.append(np.array(raw[2:]))\n",
    "        \n",
    "comparisons = break_pairwise(rankings)\n",
    "        \n",
    "n_items = 100\n",
    "n_rankings = len(rankings)\n",
    "n_iters = 10"
   ]
  },
  {
   "cell_type": "markdown",
   "metadata": {},
   "source": [
    "## Spectral gaps"
   ]
  },
  {
   "cell_type": "code",
   "execution_count": 5,
   "metadata": {},
   "outputs": [
    {
     "name": "stdout",
     "output_type": "stream",
     "text": [
      "k=2, spectral gap: 0.815\n",
      "k=10, spectral gap: 0.899\n"
     ]
    }
   ],
   "source": [
    "gap = spectral_gap(n_items, comparisons)\n",
    "print(\"k=2, spectral gap: {:.3f}\".format(gap))\n",
    "\n",
    "gap = spectral_gap(n_items, rankings)\n",
    "print(\"k=10, spectral gap: {:.3f}\".format(gap))"
   ]
  },
  {
   "cell_type": "markdown",
   "metadata": {},
   "source": [
    "## Convergence analysis"
   ]
  },
  {
   "cell_type": "code",
   "execution_count": 6,
   "metadata": {},
   "outputs": [
    {
     "name": "stdout",
     "output_type": "stream",
     "text": [
      "CPU times: user 8.75 s, sys: 102 ms, total: 8.85 s\n",
      "Wall time: 8.8 s\n"
     ]
    }
   ],
   "source": [
    "%%time\n",
    "ml_pairwise = choix.ilsr_pairwise(n_items, comparisons, max_iter=1000, tol=1e-15)\n",
    "ml_rankings = choix.ilsr_rankings(n_items, rankings, max_iter=1000, tol=1e-15)\n",
    "\n",
    "res = {\n",
    "    \"MM-pw\": list(),\n",
    "    \"MM-rk\": list(),\n",
    "    \"I-LSR-pw\": list(),\n",
    "    \"I-LSR-rk\": list(),\n",
    "}\n",
    "\n",
    "# MM pairwise.\n",
    "params = np.zeros(n_items)\n",
    "for i in range(n_iters):\n",
    "    wins, denoms = _mm_pairwise(n_items, comparisons, params)\n",
    "    params = log_transform(wins / denoms)\n",
    "    res[\"MM-pw\"].append(choix.rmse(ml_pairwise, params))\n",
    "    \n",
    "# MM rankings.\n",
    "params = np.zeros(n_items)\n",
    "for i in range(n_iters):\n",
    "    wins, denoms = _mm_rankings(n_items, rankings, params)\n",
    "    params = log_transform(wins / denoms)\n",
    "    res[\"MM-rk\"].append(choix.rmse(ml_rankings, params))\n",
    "\n",
    "# I-LSR pairwise.\n",
    "params = None\n",
    "for i in range(n_iters):\n",
    "    params = choix.lsr_pairwise(n_items, comparisons, initial_params=params)\n",
    "    res[\"I-LSR-pw\"].append(choix.rmse(ml_pairwise, params))\n",
    "    \n",
    "# I-LSR rankings.\n",
    "params = None\n",
    "for i in range(n_iters):\n",
    "    params = choix.lsr_rankings(n_items, rankings, initial_params=params)\n",
    "    res[\"I-LSR-rk\"].append(choix.rmse(ml_rankings, params))"
   ]
  },
  {
   "cell_type": "code",
   "execution_count": 7,
   "metadata": {},
   "outputs": [
    {
     "name": "stderr",
     "output_type": "stream",
     "text": [
      "/Users/maystre/.virtualenvs/thesis/lib/python3.5/site-packages/matplotlib/figure.py:1999: UserWarning: This figure includes Axes that are not compatible with tight_layout, so results might be incorrect.\n",
      "  warnings.warn(\"This figure includes Axes that are not compatible \"\n"
     ]
    },
    {
     "data": {
      "image/png": "[encoded data removed]",
      "text/plain": [
       "<matplotlib.figure.Figure at 0x10bfd4208>"
      ]
     },
     "metadata": {},
     "output_type": "display_data"
    }
   ],
   "source": [
    "fig, ax = plt.subplots(figsize=(4.25, 2.75))\n",
    "xs = np.arange(1, n_iters+1)\n",
    "\n",
    "ax.semilogy(xs, res[\"MM-rk\"], label=\"MM, $K=10$\",\n",
    "        color=\"black\", marker=\"s\")\n",
    "ax.semilogy(xs, res[\"MM-pw\"], label=\"MM, $K=2$\",\n",
    "        color=\"black\", marker=\"s\", ls=\":\")\n",
    "ax.semilogy(xs, res[\"I-LSR-rk\"], label=\"I-LSR, $K=10$\",\n",
    "        color=\"red\", marker=\"o\")\n",
    "ax.semilogy(xs, res[\"I-LSR-pw\"], label=\"I-LSR, $K=2$\",\n",
    "        color=\"red\", marker=\"o\", ls=\":\")\n",
    "\n",
    "ax.legend()\n",
    "ax.set_xlabel(\"iteration\")\n",
    "ax.set_ylabel(r\"$E$\\textsubscript{RMS}\")\n",
    "ax.set_xticks(xs)\n",
    "ax.set_yticks([1e0, 1e-2, 1e-4, 1e-6, 1e-8, 1e-10, 1e-12])\n",
    "\n",
    "fig.savefig(\"convergence.pdf\")"
   ]
  }
 ],
 "metadata": {
  "kernelspec": {
   "display_name": "Python 3",
   "language": "python",
   "name": "python3"
  },
  "language_info": {
   "codemirror_mode": {
    "name": "ipython",
    "version": 3
   },
   "file_extension": ".py",
   "mimetype": "text/x-python",
   "name": "python",
   "nbconvert_exporter": "python",
   "pygments_lexer": "ipython3",
   "version": "3.5.1"
  }
 },
 "nbformat": 4,
 "nbformat_minor": 2
}
