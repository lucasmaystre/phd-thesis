{
 "cells": [
  {
   "cell_type": "markdown",
   "metadata": {},
   "source": [
    "# Comparison of probit and logit models\n",
    "\n",
    "A plot of the sigmoids corresponding the probit (Thurstone) and logit (Bradley–Terry) models."
   ]
  },
  {
   "cell_type": "code",
   "execution_count": 1,
   "metadata": {},
   "outputs": [],
   "source": [
    "import math\n",
    "import matplotlib.pyplot as plt\n",
    "import numpy as np\n",
    "import thesis\n",
    "\n",
    "from scipy.stats import norm\n",
    "\n",
    "%matplotlib inline"
   ]
  },
  {
   "cell_type": "code",
   "execution_count": 2,
   "metadata": {},
   "outputs": [
    {
     "name": "stdout",
     "output_type": "stream",
     "text": [
      "Thesis settings loaded!\n"
     ]
    }
   ],
   "source": [
    "thesis.setup_plotting()"
   ]
  },
  {
   "cell_type": "code",
   "execution_count": 3,
   "metadata": {},
   "outputs": [],
   "source": [
    "def inv_logit(xs):\n",
    "    return 1 / (1 + np.exp(-xs))\n",
    "\n",
    "def inv_probit(xs):\n",
    "    return norm.cdf(xs)"
   ]
  },
  {
   "cell_type": "code",
   "execution_count": 4,
   "metadata": {},
   "outputs": [
    {
     "name": "stderr",
     "output_type": "stream",
     "text": [
      "/Users/maystre/.virtualenvs/thesis/lib/python3.5/site-packages/matplotlib/figure.py:1999: UserWarning: This figure includes Axes that are not compatible with tight_layout, so results might be incorrect.\n",
      "  warnings.warn(\"This figure includes Axes that are not compatible \"\n"
     ]
    },
    {
     "data": {
      "image/png": "[encoded data removed]",
      "text/plain": [
       "<matplotlib.figure.Figure at 0x10dcda198>"
      ]
     },
     "metadata": {},
     "output_type": "display_data"
    }
   ],
   "source": [
    "xs = np.linspace(-5, 5, num=100)\n",
    "c = math.sqrt(2*math.pi) / 4\n",
    "\n",
    "fig, ax = plt.subplots(figsize=(3.5, 2.5))\n",
    "ax.plot(xs, inv_logit(xs), color=\"black\",\n",
    "        label=r\"$\\frac{1}{1 + \\exp[-(\\theta_i - \\theta_j)]}$\")\n",
    "ax.plot(xs, inv_probit(c * xs), color=\"black\", linestyle=\"--\",\n",
    "        label=r\"$\\Phi \\left[ \\frac{\\sqrt{2 \\pi}}{4} (\\theta_i - \\theta_j) \\right]$\")\n",
    "ax.legend()\n",
    "ax.set_xlabel(r\"$\\theta_i - \\theta_j$\")\n",
    "fig.savefig(\"sigmoids.pdf\")"
   ]
  }
 ],
 "metadata": {
  "kernelspec": {
   "display_name": "Python 3",
   "language": "python",
   "name": "python3"
  },
  "language_info": {
   "codemirror_mode": {
    "name": "ipython",
    "version": 3
   },
   "file_extension": ".py",
   "mimetype": "text/x-python",
   "name": "python",
   "nbconvert_exporter": "python",
   "pygments_lexer": "ipython3",
   "version": "3.5.1"
  }
 },
 "nbformat": 4,
 "nbformat_minor": 2
}
