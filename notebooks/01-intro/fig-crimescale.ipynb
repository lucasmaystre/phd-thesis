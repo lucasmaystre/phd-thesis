{
 "cells": [
  {
   "cell_type": "markdown",
   "metadata": {},
   "source": [
    "# Thurstone's crime scale\n",
    "\n",
    "This is a reproduction of the crime scale presentd in Thurstone's 1927 paper, *The Methods of Paired Comparisons for Social Values*."
   ]
  },
  {
   "cell_type": "code",
   "execution_count": 1,
   "metadata": {},
   "outputs": [],
   "source": [
    "import choix\n",
    "import matplotlib.pyplot as plt\n",
    "import numpy as np\n",
    "import thesis\n",
    "\n",
    "%matplotlib inline"
   ]
  },
  {
   "cell_type": "code",
   "execution_count": 2,
   "metadata": {},
   "outputs": [
    {
     "name": "stdout",
     "output_type": "stream",
     "text": [
      "Thesis settings loaded!\n"
     ]
    }
   ],
   "source": [
    "thesis.setup_plotting()"
   ]
  },
  {
   "cell_type": "code",
   "execution_count": 3,
   "metadata": {},
   "outputs": [],
   "source": [
    "mat = np.transpose(\n",
    "        np.loadtxt(\"../../data/ccdata-fixed.csv\", delimiter=\",\", dtype=int))\n",
    "\n",
    "with open(\"../../data/ccdata-labels.txt\") as f:\n",
    "    labels = list(line.strip() for line in f)"
   ]
  },
  {
   "cell_type": "code",
   "execution_count": 4,
   "metadata": {},
   "outputs": [],
   "source": [
    "params = thesis.thurstone_mle(mat)"
   ]
  },
  {
   "cell_type": "code",
   "execution_count": 5,
   "metadata": {},
   "outputs": [
    {
     "name": "stderr",
     "output_type": "stream",
     "text": [
      "/Users/maystre/.virtualenvs/thesis/lib/python3.5/site-packages/matplotlib/figure.py:1999: UserWarning: This figure includes Axes that are not compatible with tight_layout, so results might be incorrect.\n",
      "  warnings.warn(\"This figure includes Axes that are not compatible \"\n",
      "/Users/maystre/.virtualenvs/thesis/lib/python3.5/site-packages/matplotlib/figure.py:1999: UserWarning: This figure includes Axes that are not compatible with tight_layout, so results might be incorrect.\n",
      "  warnings.warn(\"This figure includes Axes that are not compatible \"\n"
     ]
    },
    {
     "data": {
      "image/png": "[encoded data removed]",
      "text/plain": [
       "<matplotlib.figure.Figure at 0x10ee8ac50>"
      ]
     },
     "metadata": {},
     "output_type": "display_data"
    }
   ],
   "source": [
    "fig, ax = plt.subplots(figsize=(5.78, 3.0))\n",
    "ax.set_axis_off()\n",
    "ax.scatter(params, np.zeros_like(params), color=\"black\", s=3.0)\n",
    "\n",
    "for i, (x, label) in enumerate(sorted(zip(params, labels))):\n",
    "    if i % 2 == 0:\n",
    "        ax.annotate(label, (x, 0), ha=\"left\", va=\"bottom\", rotation=45, fontsize=7)\n",
    "    else:\n",
    "        ax.annotate(label, (x, 0), ha=\"left\", va=\"top\", rotation=-45, fontsize=7)\n",
    "\n",
    "ax.axhline(0.0, color=\"black\", linewidth=0.5)\n",
    "ax.scatter(max(params) + 0.2, 0, marker=\">\", color=\"black\", s=20.0)\n",
    "ax.set_xlim(right=max(params) + 0.23)\n",
    "fig.savefig(\"crimescale.pdf\", bbox_inches=\"tight\")"
   ]
  }
 ],
 "metadata": {
  "kernelspec": {
   "display_name": "Python 3",
   "language": "python",
   "name": "python3"
  },
  "language_info": {
   "codemirror_mode": {
    "name": "ipython",
    "version": 3
   },
   "file_extension": ".py",
   "mimetype": "text/x-python",
   "name": "python",
   "nbconvert_exporter": "python",
   "pygments_lexer": "ipython3",
   "version": "3.5.1"
  }
 },
 "nbformat": 4,
 "nbformat_minor": 2
}
